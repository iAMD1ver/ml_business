{
 "cells": [
  {
   "cell_type": "code",
   "execution_count": 1,
   "metadata": {},
   "outputs": [],
   "source": [
    "%matplotlib inline\n",
    "import matplotlib.pyplot as plt\n",
    "\n",
    "import numpy as np\n",
    "import pandas as pd \n",
    "import seaborn as sns\n",
    "\n",
    "\n",
    "from sklearn.metrics import mean_squared_error\n",
    "\n",
    "\n",
    "import statsmodels.formula.api as smf\n",
    "import statsmodels.tsa.api as smt\n",
    "import statsmodels.api as sm\n",
    "import scipy.stats as scs\n",
    "\n",
    "\n",
    "from sklearn.ensemble import GradientBoostingRegressor\n",
    "from sklearn.preprocessing import StandardScaler\n",
    "\n",
    "from sklearn.metrics import mean_absolute_error, mean_squared_error, median_absolute_error, r2_score"
   ]
  },
  {
   "cell_type": "code",
   "execution_count": 2,
   "metadata": {},
   "outputs": [],
   "source": [
    "def exponential_smoothing(series, alpha):\n",
    "    result = [series[0]] # first value is same as series\n",
    "    for n in range(1, len(series)):\n",
    "        result.append(alpha * series[n] + (1 - alpha) * result[n-1])\n",
    "    return result\n",
    "\n",
    "\n",
    "def split_data_b( data, split_date ):\n",
    "    return data.loc[data.index.get_level_values('Дата') <= split_date].copy(), \\\n",
    "           data.loc[data.index.get_level_values('Дата') >  split_date].copy()\n",
    "\n",
    "\n",
    "def mean_absolute_percentage_error(y_true, y_pred): \n",
    "    y_true, y_pred = np.array(y_true), np.array(y_pred)\n",
    "    return np.mean(np.abs((y_true - y_pred) / y_true)) * 100"
   ]
  },
  {
   "cell_type": "markdown",
   "metadata": {},
   "source": [
    "**1. Прочитайте базу my_BRENT2019.csv и перейдите к представлению ряда первыми разностями**"
   ]
  },
  {
   "cell_type": "code",
   "execution_count": 3,
   "metadata": {},
   "outputs": [
    {
     "data": {
      "text/html": [
       "<div>\n",
       "<style scoped>\n",
       "    .dataframe tbody tr th:only-of-type {\n",
       "        vertical-align: middle;\n",
       "    }\n",
       "\n",
       "    .dataframe tbody tr th {\n",
       "        vertical-align: top;\n",
       "    }\n",
       "\n",
       "    .dataframe thead th {\n",
       "        text-align: right;\n",
       "    }\n",
       "</style>\n",
       "<table border=\"1\" class=\"dataframe\">\n",
       "  <thead>\n",
       "    <tr style=\"text-align: right;\">\n",
       "      <th></th>\n",
       "      <th>Значение</th>\n",
       "      <th>year</th>\n",
       "      <th>month</th>\n",
       "      <th>dayofmonth</th>\n",
       "      <th>quarter</th>\n",
       "      <th>dayofyear</th>\n",
       "      <th>weekofyear</th>\n",
       "      <th>dayofweek</th>\n",
       "      <th>is_holiday</th>\n",
       "      <th>is_prev_holiday</th>\n",
       "      <th>is_next_holiday</th>\n",
       "    </tr>\n",
       "    <tr>\n",
       "      <th>Дата</th>\n",
       "      <th></th>\n",
       "      <th></th>\n",
       "      <th></th>\n",
       "      <th></th>\n",
       "      <th></th>\n",
       "      <th></th>\n",
       "      <th></th>\n",
       "      <th></th>\n",
       "      <th></th>\n",
       "      <th></th>\n",
       "      <th></th>\n",
       "    </tr>\n",
       "  </thead>\n",
       "  <tbody>\n",
       "    <tr>\n",
       "      <th>2010-09-01</th>\n",
       "      <td>76.37</td>\n",
       "      <td>2010</td>\n",
       "      <td>9</td>\n",
       "      <td>1</td>\n",
       "      <td>3</td>\n",
       "      <td>244</td>\n",
       "      <td>35</td>\n",
       "      <td>2</td>\n",
       "      <td>0</td>\n",
       "      <td>0</td>\n",
       "      <td>0</td>\n",
       "    </tr>\n",
       "    <tr>\n",
       "      <th>2010-09-02</th>\n",
       "      <td>76.89</td>\n",
       "      <td>2010</td>\n",
       "      <td>9</td>\n",
       "      <td>2</td>\n",
       "      <td>3</td>\n",
       "      <td>245</td>\n",
       "      <td>35</td>\n",
       "      <td>3</td>\n",
       "      <td>0</td>\n",
       "      <td>0</td>\n",
       "      <td>0</td>\n",
       "    </tr>\n",
       "    <tr>\n",
       "      <th>2010-09-03</th>\n",
       "      <td>76.57</td>\n",
       "      <td>2010</td>\n",
       "      <td>9</td>\n",
       "      <td>3</td>\n",
       "      <td>3</td>\n",
       "      <td>246</td>\n",
       "      <td>35</td>\n",
       "      <td>4</td>\n",
       "      <td>0</td>\n",
       "      <td>0</td>\n",
       "      <td>0</td>\n",
       "    </tr>\n",
       "    <tr>\n",
       "      <th>2010-09-04</th>\n",
       "      <td>76.62</td>\n",
       "      <td>2010</td>\n",
       "      <td>9</td>\n",
       "      <td>4</td>\n",
       "      <td>3</td>\n",
       "      <td>247</td>\n",
       "      <td>35</td>\n",
       "      <td>5</td>\n",
       "      <td>0</td>\n",
       "      <td>0</td>\n",
       "      <td>0</td>\n",
       "    </tr>\n",
       "    <tr>\n",
       "      <th>2010-09-05</th>\n",
       "      <td>76.63</td>\n",
       "      <td>2010</td>\n",
       "      <td>9</td>\n",
       "      <td>5</td>\n",
       "      <td>3</td>\n",
       "      <td>248</td>\n",
       "      <td>35</td>\n",
       "      <td>6</td>\n",
       "      <td>0</td>\n",
       "      <td>1</td>\n",
       "      <td>0</td>\n",
       "    </tr>\n",
       "  </tbody>\n",
       "</table>\n",
       "</div>"
      ],
      "text/plain": [
       "            Значение  year  month  dayofmonth  quarter  dayofyear  weekofyear  \\\n",
       "Дата                                                                            \n",
       "2010-09-01     76.37  2010      9           1        3        244          35   \n",
       "2010-09-02     76.89  2010      9           2        3        245          35   \n",
       "2010-09-03     76.57  2010      9           3        3        246          35   \n",
       "2010-09-04     76.62  2010      9           4        3        247          35   \n",
       "2010-09-05     76.63  2010      9           5        3        248          35   \n",
       "\n",
       "            dayofweek  is_holiday  is_prev_holiday  is_next_holiday  \n",
       "Дата                                                                 \n",
       "2010-09-01          2           0                0                0  \n",
       "2010-09-02          3           0                0                0  \n",
       "2010-09-03          4           0                0                0  \n",
       "2010-09-04          5           0                0                0  \n",
       "2010-09-05          6           0                1                0  "
      ]
     },
     "execution_count": 3,
     "metadata": {},
     "output_type": "execute_result"
    }
   ],
   "source": [
    "brent_data = pd.read_csv('my_BRENT2019.csv', index_col=[0])\n",
    "\n",
    "brent_data.head()"
   ]
  },
  {
   "cell_type": "code",
   "execution_count": 4,
   "metadata": {},
   "outputs": [
    {
     "data": {
      "text/html": [
       "<div>\n",
       "<style scoped>\n",
       "    .dataframe tbody tr th:only-of-type {\n",
       "        vertical-align: middle;\n",
       "    }\n",
       "\n",
       "    .dataframe tbody tr th {\n",
       "        vertical-align: top;\n",
       "    }\n",
       "\n",
       "    .dataframe thead th {\n",
       "        text-align: right;\n",
       "    }\n",
       "</style>\n",
       "<table border=\"1\" class=\"dataframe\">\n",
       "  <thead>\n",
       "    <tr style=\"text-align: right;\">\n",
       "      <th></th>\n",
       "      <th>Значение</th>\n",
       "      <th>year</th>\n",
       "      <th>month</th>\n",
       "      <th>dayofmonth</th>\n",
       "      <th>quarter</th>\n",
       "      <th>dayofyear</th>\n",
       "      <th>weekofyear</th>\n",
       "      <th>dayofweek</th>\n",
       "      <th>is_holiday</th>\n",
       "      <th>is_prev_holiday</th>\n",
       "      <th>is_next_holiday</th>\n",
       "    </tr>\n",
       "    <tr>\n",
       "      <th>Дата</th>\n",
       "      <th></th>\n",
       "      <th></th>\n",
       "      <th></th>\n",
       "      <th></th>\n",
       "      <th></th>\n",
       "      <th></th>\n",
       "      <th></th>\n",
       "      <th></th>\n",
       "      <th></th>\n",
       "      <th></th>\n",
       "      <th></th>\n",
       "    </tr>\n",
       "  </thead>\n",
       "  <tbody>\n",
       "    <tr>\n",
       "      <th>2019-08-27</th>\n",
       "      <td>59.59</td>\n",
       "      <td>2019</td>\n",
       "      <td>8</td>\n",
       "      <td>27</td>\n",
       "      <td>3</td>\n",
       "      <td>239</td>\n",
       "      <td>35</td>\n",
       "      <td>1</td>\n",
       "      <td>0</td>\n",
       "      <td>0</td>\n",
       "      <td>0</td>\n",
       "    </tr>\n",
       "    <tr>\n",
       "      <th>2019-08-28</th>\n",
       "      <td>59.84</td>\n",
       "      <td>2019</td>\n",
       "      <td>8</td>\n",
       "      <td>28</td>\n",
       "      <td>3</td>\n",
       "      <td>240</td>\n",
       "      <td>35</td>\n",
       "      <td>2</td>\n",
       "      <td>0</td>\n",
       "      <td>0</td>\n",
       "      <td>0</td>\n",
       "    </tr>\n",
       "    <tr>\n",
       "      <th>2019-08-29</th>\n",
       "      <td>60.37</td>\n",
       "      <td>2019</td>\n",
       "      <td>8</td>\n",
       "      <td>29</td>\n",
       "      <td>3</td>\n",
       "      <td>241</td>\n",
       "      <td>35</td>\n",
       "      <td>3</td>\n",
       "      <td>0</td>\n",
       "      <td>0</td>\n",
       "      <td>0</td>\n",
       "    </tr>\n",
       "    <tr>\n",
       "      <th>2019-08-30</th>\n",
       "      <td>59.19</td>\n",
       "      <td>2019</td>\n",
       "      <td>8</td>\n",
       "      <td>30</td>\n",
       "      <td>3</td>\n",
       "      <td>242</td>\n",
       "      <td>35</td>\n",
       "      <td>4</td>\n",
       "      <td>0</td>\n",
       "      <td>0</td>\n",
       "      <td>0</td>\n",
       "    </tr>\n",
       "    <tr>\n",
       "      <th>2019-09-01</th>\n",
       "      <td>58.84</td>\n",
       "      <td>2019</td>\n",
       "      <td>9</td>\n",
       "      <td>1</td>\n",
       "      <td>3</td>\n",
       "      <td>244</td>\n",
       "      <td>35</td>\n",
       "      <td>6</td>\n",
       "      <td>0</td>\n",
       "      <td>1</td>\n",
       "      <td>0</td>\n",
       "    </tr>\n",
       "  </tbody>\n",
       "</table>\n",
       "</div>"
      ],
      "text/plain": [
       "            Значение  year  month  dayofmonth  quarter  dayofyear  weekofyear  \\\n",
       "Дата                                                                            \n",
       "2019-08-27     59.59  2019      8          27        3        239          35   \n",
       "2019-08-28     59.84  2019      8          28        3        240          35   \n",
       "2019-08-29     60.37  2019      8          29        3        241          35   \n",
       "2019-08-30     59.19  2019      8          30        3        242          35   \n",
       "2019-09-01     58.84  2019      9           1        3        244          35   \n",
       "\n",
       "            dayofweek  is_holiday  is_prev_holiday  is_next_holiday  \n",
       "Дата                                                                 \n",
       "2019-08-27          1           0                0                0  \n",
       "2019-08-28          2           0                0                0  \n",
       "2019-08-29          3           0                0                0  \n",
       "2019-08-30          4           0                0                0  \n",
       "2019-09-01          6           0                1                0  "
      ]
     },
     "execution_count": 4,
     "metadata": {},
     "output_type": "execute_result"
    }
   ],
   "source": [
    "brent_data.tail()"
   ]
  },
  {
   "cell_type": "code",
   "execution_count": 5,
   "metadata": {},
   "outputs": [],
   "source": [
    "d_brent_data = brent_data['Значение'].values[1:]- brent_data['Значение'].values[:-1]"
   ]
  },
  {
   "cell_type": "code",
   "execution_count": 6,
   "metadata": {},
   "outputs": [
    {
     "data": {
      "text/plain": [
       "array([ 0.52, -0.32,  0.05, ...,  0.53, -1.18, -0.35])"
      ]
     },
     "execution_count": 6,
     "metadata": {},
     "output_type": "execute_result"
    }
   ],
   "source": [
    "d_brent_data"
   ]
  },
  {
   "cell_type": "code",
   "execution_count": 7,
   "metadata": {},
   "outputs": [
    {
     "data": {
      "image/png": "[encoded data removed]",
      "text/plain": [
       "<Figure size 1440x288 with 1 Axes>"
      ]
     },
     "metadata": {
      "needs_background": "light"
     },
     "output_type": "display_data"
    }
   ],
   "source": [
    "plt.figure(figsize=(20,4))\n",
    "\n",
    "plt.plot(brent_data.iloc[:-1].index,d_brent_data,'.', label='d(BRENT)/dt')\n",
    "\n",
    "plt.title('Цена нефти Brent, USA Dollar')\n",
    "\n",
    "plt.show()"
   ]
  },
  {
   "cell_type": "markdown",
   "metadata": {},
   "source": [
    "**2. Добавьте первые разности по стоимости доллара и евро к рублю (можно добавить и сами курсы валют - прошлые значения)**"
   ]
  },
  {
   "cell_type": "code",
   "execution_count": 8,
   "metadata": {},
   "outputs": [],
   "source": [
    "data_usd = pd.read_excel('USD.xlsx', index_col=[0])\n",
    "data_eur = pd.read_excel('EUR.xlsx', index_col=[0])"
   ]
  },
  {
   "cell_type": "code",
   "execution_count": 9,
   "metadata": {},
   "outputs": [],
   "source": [
    "data_eur = data_eur['2010-09-01':'2019-09-01']\n",
    "data_usd = data_usd['2010-09-01':'2019-09-01']\n",
    "\n",
    "data_usd['eur'] = data_eur.copy()"
   ]
  },
  {
   "cell_type": "code",
   "execution_count": 10,
   "metadata": {},
   "outputs": [],
   "source": [
    "main_df = pd.merge(brent_data, data_usd, left_index=True, right_index=True, how = 'left')"
   ]
  },
  {
   "cell_type": "code",
   "execution_count": 11,
   "metadata": {},
   "outputs": [],
   "source": [
    "main_df['eur'].fillna(method='ffill', inplace=True)\n",
    "main_df['curs'].fillna(method='ffill', inplace=True)\n",
    "main_df['Значение'].fillna(method='ffill', inplace=True)"
   ]
  },
  {
   "cell_type": "code",
   "execution_count": 12,
   "metadata": {},
   "outputs": [
    {
     "data": {
      "image/png": "[encoded data removed]",
      "text/plain": [
       "<Figure size 1080x216 with 1 Axes>"
      ]
     },
     "metadata": {
      "needs_background": "light"
     },
     "output_type": "display_data"
    }
   ],
   "source": [
    "plt.figure( figsize=( 15, 3 ))\n",
    "\n",
    "\n",
    "plt.xlabel('Дата')\n",
    "\n",
    "plt.plot(main_df.index, main_df['Значение'], label='Brent, USD')\n",
    "plt.plot(main_df.index, main_df['eur'], label='EUR' )\n",
    "plt.plot(main_df.index, main_df['curs'], label='USD')\n",
    "\n",
    "\n",
    "plt.legend()\n",
    "plt.show()"
   ]
  },
  {
   "cell_type": "code",
   "execution_count": 13,
   "metadata": {},
   "outputs": [],
   "source": [
    "main_df['d_brent'] = main_df['Значение'] - main_df['Значение'].shift(periods=1)\n",
    "main_df['d_usd'] = main_df['curs'] - main_df['curs'].shift(periods=1)\n",
    "main_df['d_eur'] = main_df['eur'] - main_df['eur'].shift(periods=1)"
   ]
  },
  {
   "cell_type": "code",
   "execution_count": 14,
   "metadata": {},
   "outputs": [],
   "source": [
    "features = ['Значение', 'curs', 'eur', 'd_brent', 'd_usd', 'd_eur']"
   ]
  },
  {
   "cell_type": "code",
   "execution_count": 15,
   "metadata": {},
   "outputs": [],
   "source": [
    "main_df = main_df[features]"
   ]
  },
  {
   "cell_type": "code",
   "execution_count": 16,
   "metadata": {},
   "outputs": [],
   "source": [
    "main_df.dropna(inplace=True)"
   ]
  },
  {
   "cell_type": "markdown",
   "metadata": {},
   "source": [
    "**3. сделайте ее перрасчет (ресемплинг) в представление по неделям.**"
   ]
  },
  {
   "cell_type": "code",
   "execution_count": 17,
   "metadata": {},
   "outputs": [],
   "source": [
    "main_df_week = main_df.resample('1W').mean()"
   ]
  },
  {
   "cell_type": "code",
   "execution_count": 18,
   "metadata": {},
   "outputs": [],
   "source": [
    "main_df_week['t1'] = main_df_week['Значение'].shift(periods=1)\n",
    "main_df_week['t2'] = main_df_week['Значение'].shift(periods=2)\n",
    "main_df_week['t3'] = main_df_week['Значение'].shift(periods=3)\n",
    "\n",
    "main_df_week['curs'] = main_df_week['curs'].shift(periods=1)\n",
    "main_df_week['eur'] = main_df_week['eur'].shift(periods=1)"
   ]
  },
  {
   "cell_type": "code",
   "execution_count": 19,
   "metadata": {},
   "outputs": [],
   "source": [
    "main_df_week.dropna(inplace=True)"
   ]
  },
  {
   "cell_type": "code",
   "execution_count": 27,
   "metadata": {},
   "outputs": [
    {
     "data": {
      "text/html": [
       "<div>\n",
       "<style scoped>\n",
       "    .dataframe tbody tr th:only-of-type {\n",
       "        vertical-align: middle;\n",
       "    }\n",
       "\n",
       "    .dataframe tbody tr th {\n",
       "        vertical-align: top;\n",
       "    }\n",
       "\n",
       "    .dataframe thead th {\n",
       "        text-align: right;\n",
       "    }\n",
       "</style>\n",
       "<table border=\"1\" class=\"dataframe\">\n",
       "  <thead>\n",
       "    <tr style=\"text-align: right;\">\n",
       "      <th></th>\n",
       "      <th>Значение</th>\n",
       "      <th>curs</th>\n",
       "      <th>eur</th>\n",
       "      <th>d_brent</th>\n",
       "      <th>d_usd</th>\n",
       "      <th>d_eur</th>\n",
       "      <th>t1</th>\n",
       "      <th>t2</th>\n",
       "      <th>t3</th>\n",
       "    </tr>\n",
       "    <tr>\n",
       "      <th>Дата</th>\n",
       "      <th></th>\n",
       "      <th></th>\n",
       "      <th></th>\n",
       "      <th></th>\n",
       "      <th></th>\n",
       "      <th></th>\n",
       "      <th></th>\n",
       "      <th></th>\n",
       "      <th></th>\n",
       "    </tr>\n",
       "  </thead>\n",
       "  <tbody>\n",
       "    <tr>\n",
       "      <th>2010-09-26</th>\n",
       "      <td>78.518333</td>\n",
       "      <td>31.012233</td>\n",
       "      <td>40.967983</td>\n",
       "      <td>0.118333</td>\n",
       "      <td>-0.003200</td>\n",
       "      <td>0.203567</td>\n",
       "      <td>78.693333</td>\n",
       "      <td>77.673333</td>\n",
       "      <td>76.677500</td>\n",
       "    </tr>\n",
       "    <tr>\n",
       "      <th>2010-10-03</th>\n",
       "      <td>81.211667</td>\n",
       "      <td>30.607417</td>\n",
       "      <td>41.345817</td>\n",
       "      <td>0.791667</td>\n",
       "      <td>-0.081750</td>\n",
       "      <td>-0.016467</td>\n",
       "      <td>78.518333</td>\n",
       "      <td>78.693333</td>\n",
       "      <td>77.673333</td>\n",
       "    </tr>\n",
       "    <tr>\n",
       "      <th>2010-10-10</th>\n",
       "      <td>84.146667</td>\n",
       "      <td>30.100717</td>\n",
       "      <td>41.540667</td>\n",
       "      <td>0.106667</td>\n",
       "      <td>-0.146533</td>\n",
       "      <td>-0.013800</td>\n",
       "      <td>81.211667</td>\n",
       "      <td>78.518333</td>\n",
       "      <td>78.693333</td>\n",
       "    </tr>\n",
       "    <tr>\n",
       "      <th>2010-10-17</th>\n",
       "      <td>83.498333</td>\n",
       "      <td>29.921883</td>\n",
       "      <td>41.828000</td>\n",
       "      <td>-0.301667</td>\n",
       "      <td>0.049683</td>\n",
       "      <td>0.133683</td>\n",
       "      <td>84.146667</td>\n",
       "      <td>81.211667</td>\n",
       "      <td>78.518333</td>\n",
       "    </tr>\n",
       "    <tr>\n",
       "      <th>2010-10-24</th>\n",
       "      <td>82.795000</td>\n",
       "      <td>30.522783</td>\n",
       "      <td>42.501967</td>\n",
       "      <td>0.071667</td>\n",
       "      <td>0.133883</td>\n",
       "      <td>0.119933</td>\n",
       "      <td>83.498333</td>\n",
       "      <td>84.146667</td>\n",
       "      <td>81.211667</td>\n",
       "    </tr>\n",
       "    <tr>\n",
       "      <th>...</th>\n",
       "      <td>...</td>\n",
       "      <td>...</td>\n",
       "      <td>...</td>\n",
       "      <td>...</td>\n",
       "      <td>...</td>\n",
       "      <td>...</td>\n",
       "      <td>...</td>\n",
       "      <td>...</td>\n",
       "      <td>...</td>\n",
       "    </tr>\n",
       "    <tr>\n",
       "      <th>2019-08-04</th>\n",
       "      <td>62.791667</td>\n",
       "      <td>63.523750</td>\n",
       "      <td>70.535767</td>\n",
       "      <td>-0.286667</td>\n",
       "      <td>0.112800</td>\n",
       "      <td>0.029783</td>\n",
       "      <td>63.318333</td>\n",
       "      <td>63.778333</td>\n",
       "      <td>65.946667</td>\n",
       "    </tr>\n",
       "    <tr>\n",
       "      <th>2019-08-11</th>\n",
       "      <td>58.236667</td>\n",
       "      <td>64.907433</td>\n",
       "      <td>72.482783</td>\n",
       "      <td>-0.510000</td>\n",
       "      <td>0.215983</td>\n",
       "      <td>0.428417</td>\n",
       "      <td>62.791667</td>\n",
       "      <td>63.318333</td>\n",
       "      <td>63.778333</td>\n",
       "    </tr>\n",
       "    <tr>\n",
       "      <th>2019-08-18</th>\n",
       "      <td>59.033333</td>\n",
       "      <td>65.524150</td>\n",
       "      <td>73.232483</td>\n",
       "      <td>0.103333</td>\n",
       "      <td>0.126800</td>\n",
       "      <td>0.068633</td>\n",
       "      <td>58.236667</td>\n",
       "      <td>62.791667</td>\n",
       "      <td>63.318333</td>\n",
       "    </tr>\n",
       "    <tr>\n",
       "      <th>2019-08-25</th>\n",
       "      <td>59.495000</td>\n",
       "      <td>66.130850</td>\n",
       "      <td>73.423550</td>\n",
       "      <td>-0.180000</td>\n",
       "      <td>-0.045183</td>\n",
       "      <td>-0.103967</td>\n",
       "      <td>59.033333</td>\n",
       "      <td>58.236667</td>\n",
       "      <td>62.791667</td>\n",
       "    </tr>\n",
       "    <tr>\n",
       "      <th>2019-09-01</th>\n",
       "      <td>59.348333</td>\n",
       "      <td>66.293467</td>\n",
       "      <td>73.567617</td>\n",
       "      <td>0.171667</td>\n",
       "      <td>0.187917</td>\n",
       "      <td>0.187433</td>\n",
       "      <td>59.495000</td>\n",
       "      <td>59.033333</td>\n",
       "      <td>58.236667</td>\n",
       "    </tr>\n",
       "  </tbody>\n",
       "</table>\n",
       "<p>463 rows × 9 columns</p>\n",
       "</div>"
      ],
      "text/plain": [
       "             Значение       curs        eur   d_brent     d_usd     d_eur  \\\n",
       "Дата                                                                        \n",
       "2010-09-26  78.518333  31.012233  40.967983  0.118333 -0.003200  0.203567   \n",
       "2010-10-03  81.211667  30.607417  41.345817  0.791667 -0.081750 -0.016467   \n",
       "2010-10-10  84.146667  30.100717  41.540667  0.106667 -0.146533 -0.013800   \n",
       "2010-10-17  83.498333  29.921883  41.828000 -0.301667  0.049683  0.133683   \n",
       "2010-10-24  82.795000  30.522783  42.501967  0.071667  0.133883  0.119933   \n",
       "...               ...        ...        ...       ...       ...       ...   \n",
       "2019-08-04  62.791667  63.523750  70.535767 -0.286667  0.112800  0.029783   \n",
       "2019-08-11  58.236667  64.907433  72.482783 -0.510000  0.215983  0.428417   \n",
       "2019-08-18  59.033333  65.524150  73.232483  0.103333  0.126800  0.068633   \n",
       "2019-08-25  59.495000  66.130850  73.423550 -0.180000 -0.045183 -0.103967   \n",
       "2019-09-01  59.348333  66.293467  73.567617  0.171667  0.187917  0.187433   \n",
       "\n",
       "                   t1         t2         t3  \n",
       "Дата                                         \n",
       "2010-09-26  78.693333  77.673333  76.677500  \n",
       "2010-10-03  78.518333  78.693333  77.673333  \n",
       "2010-10-10  81.211667  78.518333  78.693333  \n",
       "2010-10-17  84.146667  81.211667  78.518333  \n",
       "2010-10-24  83.498333  84.146667  81.211667  \n",
       "...               ...        ...        ...  \n",
       "2019-08-04  63.318333  63.778333  65.946667  \n",
       "2019-08-11  62.791667  63.318333  63.778333  \n",
       "2019-08-18  58.236667  62.791667  63.318333  \n",
       "2019-08-25  59.033333  58.236667  62.791667  \n",
       "2019-09-01  59.495000  59.033333  58.236667  \n",
       "\n",
       "[463 rows x 9 columns]"
      ]
     },
     "execution_count": 27,
     "metadata": {},
     "output_type": "execute_result"
    }
   ],
   "source": [
    "main_df_week"
   ]
  },
  {
   "cell_type": "markdown",
   "metadata": {},
   "source": [
    "**4. Постройте модель предсказания 1-й точки от текущей (h=1).**"
   ]
  },
  {
   "cell_type": "code",
   "execution_count": 21,
   "metadata": {},
   "outputs": [],
   "source": [
    "target = 'Значение'\n",
    "features = ['t1', 't2', 't3', 'curs', 'eur', 'd_brent', 'd_usd', 'd_eur']"
   ]
  },
  {
   "cell_type": "code",
   "execution_count": 22,
   "metadata": {},
   "outputs": [],
   "source": [
    "train, test = split_data_b(main_df_week, '2019-08-30')"
   ]
  },
  {
   "cell_type": "code",
   "execution_count": 23,
   "metadata": {},
   "outputs": [],
   "source": [
    "model_gb = GradientBoostingRegressor(max_depth=15, random_state=0, n_estimators=100)"
   ]
  },
  {
   "cell_type": "code",
   "execution_count": 24,
   "metadata": {},
   "outputs": [],
   "source": [
    "h=1\n",
    "X_train_b = train[features].iloc[h:]\n",
    "y_train_b = train[target].values[h:]\n",
    "X_test_b = test[features].iloc[-h:]\n",
    "y_test_b = test[target].iloc[-h:]"
   ]
  },
  {
   "cell_type": "code",
   "execution_count": 25,
   "metadata": {},
   "outputs": [
    {
     "name": "stdout",
     "output_type": "stream",
     "text": [
      "ошибка градиентного бустинга :   0.9738693141558251 %\n"
     ]
    }
   ],
   "source": [
    "model_gb.fit( X_train_b, y_train_b ) \n",
    "X_test_pred_gb = model_gb.predict(X_test_b)\n",
    "\n",
    "\n",
    "er_g = mean_absolute_percentage_error(y_true=y_test_b, y_pred=X_test_pred_gb)\n",
    "\n",
    "print('ошибка градиентного бустинга :  ', er_g, '%')"
   ]
  },
  {
   "cell_type": "code",
   "execution_count": 26,
   "metadata": {},
   "outputs": [
    {
     "data": {
      "text/plain": [
       "curs       0.851917\n",
       "t1         0.142422\n",
       "d_brent    0.002552\n",
       "eur        0.001357\n",
       "d_usd      0.000620\n",
       "d_eur      0.000426\n",
       "t2         0.000396\n",
       "t3         0.000311\n",
       "dtype: float64"
      ]
     },
     "execution_count": 26,
     "metadata": {},
     "output_type": "execute_result"
    }
   ],
   "source": [
    "feature_importances = pd.Series(model_gb.feature_importances_, index=X_train_b.columns)\n",
    "feature_importances.sort_values(ascending=False)"
   ]
  }
 ],
 "metadata": {
  "kernelspec": {
   "display_name": "Python 3",
   "language": "python",
   "name": "python3"
  },
  "language_info": {
   "codemirror_mode": {
    "name": "ipython",
    "version": 3
   },
   "file_extension": ".py",
   "mimetype": "text/x-python",
   "name": "python",
   "nbconvert_exporter": "python",
   "pygments_lexer": "ipython3",
   "version": "3.8.2"
  }
 },
 "nbformat": 4,
 "nbformat_minor": 4
}
